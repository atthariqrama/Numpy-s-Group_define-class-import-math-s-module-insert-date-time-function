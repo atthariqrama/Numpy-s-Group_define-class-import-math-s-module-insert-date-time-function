{
  "nbformat": 4,
  "nbformat_minor": 0,
  "metadata": {
    "colab": {
      "name": "Porto 5.ipynb",
      "provenance": [],
      "collapsed_sections": []
    },
    "kernelspec": {
      "name": "python3",
      "display_name": "Python 3"
    },
    "language_info": {
      "name": "python"
    }
  },
  "cells": [
    {
      "cell_type": "code",
      "source": [
        "#Object Method \n",
        "\n",
        "class Kalkulator:\n",
        "  def __init__(self, angka1, angka2):\n",
        "    self.angka1 = angka1\n",
        "    self.angka2 = angka2\n",
        "\n",
        "  def tambah(self):\n",
        "    self.plus= self.angka1 + self.angka2\n",
        "    return self.plus\n"
      ],
      "metadata": {
        "id": "rNI4OEgzZ-N6"
      },
      "execution_count": null,
      "outputs": []
    },
    {
      "cell_type": "code",
      "source": [
        "k = Kalkulator(\"angka1\", \"angka2\")\n",
        "k = Kalkulator(5,6)\n",
        "k.tambah()"
      ],
      "metadata": {
        "colab": {
          "base_uri": "https://localhost:8080/"
        },
        "id": "KGlJhC3hbnHX",
        "outputId": "d6e9b3d5-fc5a-4d34-817c-85e4638e2ab2"
      },
      "execution_count": null,
      "outputs": [
        {
          "output_type": "execute_result",
          "data": {
            "text/plain": [
              "11"
            ]
          },
          "metadata": {},
          "execution_count": 12
        }
      ]
    },
    {
      "cell_type": "code",
      "source": [
        "# class Method \n",
        "\n",
        "class Kalkulator:\n",
        "  def __init__(self, angka1, angka2):\n",
        "    self.angka1 = angka1\n",
        "    self.angka2 = angka2\n",
        "  \n",
        "  @classmethod\n",
        "  def tambah_angka(cls, angka1, angka2):\n",
        "    cls.plus_angka= angka1 + angka2\n",
        "    return cls.plus_angka"
      ],
      "metadata": {
        "id": "QnszbKB2b-we"
      },
      "execution_count": null,
      "outputs": []
    },
    {
      "cell_type": "code",
      "source": [
        "k = Kalkulator(\"angka1\",\"angka2\")\n"
      ],
      "metadata": {
        "id": "RtMK0tzCc6bC"
      },
      "execution_count": null,
      "outputs": []
    },
    {
      "cell_type": "code",
      "source": [
        "k.tambah_angka(5,2)"
      ],
      "metadata": {
        "colab": {
          "base_uri": "https://localhost:8080/"
        },
        "id": "O2YAF9aTdGG5",
        "outputId": "7084f624-5430-4da0-94d2-d2e6768c3e7d"
      },
      "execution_count": null,
      "outputs": [
        {
          "output_type": "execute_result",
          "data": {
            "text/plain": [
              "7"
            ]
          },
          "metadata": {},
          "execution_count": 24
        }
      ]
    },
    {
      "cell_type": "code",
      "source": [
        "#static Method \n",
        "\n",
        "class Kalkulator:\n",
        "  def __init__(self, angka1, angka2):\n",
        "    self.angka1 = angka1\n",
        "    self.angka2 = angka2\n",
        "  \n",
        "  @staticmethod\n",
        "  def penjumlahan(angka1, angka2):\n",
        "    jumlah = angka1 + angka2\n",
        "    return jumlah"
      ],
      "metadata": {
        "id": "WBbmPyJBee_J"
      },
      "execution_count": null,
      "outputs": []
    },
    {
      "cell_type": "code",
      "source": [
        "k = Kalkulator.penjumlahan(5,6)"
      ],
      "metadata": {
        "id": "PCVYjvEXeqU8"
      },
      "execution_count": null,
      "outputs": []
    },
    {
      "cell_type": "code",
      "source": [
        "print(k)"
      ],
      "metadata": {
        "colab": {
          "base_uri": "https://localhost:8080/"
        },
        "id": "bmAjKTJLe2u-",
        "outputId": "36765b82-36ae-4ec6-d5ab-4571dae1fbbc"
      },
      "execution_count": null,
      "outputs": [
        {
          "output_type": "stream",
          "name": "stdout",
          "text": [
            "11\n"
          ]
        }
      ]
    },
    {
      "cell_type": "code",
      "source": [
        "import unittest\n",
        "\n",
        "a = 3\n",
        "b = 5\n",
        "class Test_53a_UnitTest(unittest.TestCase):\n",
        "  def test_equal(self):\n",
        "    self.assertEqual(3 + 4, a+b)\n",
        "  def test_greater(self):\n",
        "    self.assertTune(a+b>3+4)\n",
        "if __name__==\"__main__\":\n",
        "  unittest.main()"
      ],
      "metadata": {
        "colab": {
          "base_uri": "https://localhost:8080/",
          "height": 322
        },
        "id": "Zdc5BUHsf7uL",
        "outputId": "ceae30d9-e912-4100-82a8-4fc7a3d3cbef"
      },
      "execution_count": null,
      "outputs": [
        {
          "output_type": "stream",
          "name": "stderr",
          "text": [
            "E\n",
            "======================================================================\n",
            "ERROR: /root/ (unittest.loader._FailedTest)\n",
            "----------------------------------------------------------------------\n",
            "AttributeError: module '__main__' has no attribute '/root/'\n",
            "\n",
            "----------------------------------------------------------------------\n",
            "Ran 1 test in 0.003s\n",
            "\n",
            "FAILED (errors=1)\n"
          ]
        },
        {
          "output_type": "error",
          "ename": "SystemExit",
          "evalue": "ignored",
          "traceback": [
            "An exception has occurred, use %tb to see the full traceback.\n",
            "\u001b[0;31mSystemExit\u001b[0m\u001b[0;31m:\u001b[0m True\n"
          ]
        },
        {
          "output_type": "stream",
          "name": "stderr",
          "text": [
            "/usr/local/lib/python3.7/dist-packages/IPython/core/interactiveshell.py:2890: UserWarning: To exit: use 'exit', 'quit', or Ctrl-D.\n",
            "  warn(\"To exit: use 'exit', 'quit', or Ctrl-D.\", stacklevel=1)\n"
          ]
        }
      ]
    },
    {
      "cell_type": "code",
      "source": [
        "#Import OS\n",
        "\n",
        "import os\n",
        "\n",
        "folder = input(\"Enter the name of the folder you want to create\")\n",
        "os.mkdir(folder)\n",
        "print(\"Directory created\")"
      ],
      "metadata": {
        "colab": {
          "base_uri": "https://localhost:8080/"
        },
        "id": "artmGy2be7tI",
        "outputId": "c3638cef-48a7-4a90-de8b-89ca9e323592"
      },
      "execution_count": null,
      "outputs": [
        {
          "output_type": "stream",
          "name": "stdout",
          "text": [
            "Enter the name of the folder you want to create Python \n",
            "Directory created\n"
          ]
        }
      ]
    },
    {
      "cell_type": "code",
      "source": [
        "#sys\n",
        "\n",
        "import sys \n",
        "a = int(input(\"Enter a number\"))\n",
        "b = int(input(\"Enter a number to divided by\"))\n",
        "\n",
        "try:\n",
        "  print(f\"The answer is {a/b}\")\n",
        "except:\n",
        "  print(sys.exc_info()[0])\n",
        "  print(\"Undefined\")\n",
        "else:\n",
        "  print(\"succeed\")\n",
        "finally:\n",
        "  print(\"Thank You\")"
      ],
      "metadata": {
        "colab": {
          "base_uri": "https://localhost:8080/"
        },
        "id": "MHFL12RyH73g",
        "outputId": "35759eec-3709-4124-8195-5922cd08c3c8"
      },
      "execution_count": null,
      "outputs": [
        {
          "output_type": "stream",
          "name": "stdout",
          "text": [
            "Enter a number3\n",
            "Enter a number to divided by1\n",
            "The answer is 3.0\n",
            "succeed\n",
            "Thank You\n"
          ]
        }
      ]
    },
    {
      "cell_type": "code",
      "source": [
        "#Open File()\n",
        "\n",
        "bio = open(\"Python 1.txt\",\"r\")\n",
        "print(bio.read())"
      ],
      "metadata": {
        "colab": {
          "base_uri": "https://localhost:8080/"
        },
        "id": "UtIxX-dpKvWx",
        "outputId": "b9b85732-925b-49cf-dc5d-e55107497a1d"
      },
      "execution_count": null,
      "outputs": [
        {
          "output_type": "stream",
          "name": "stdout",
          "text": [
            "Name : Donny\n",
            "Major: Industrial Engineering\n",
            "NPM  : 31419915\n"
          ]
        }
      ]
    },
    {
      "cell_type": "code",
      "source": [
        "#read file\n",
        "\n",
        "a = open(\"Python 1.txt\",\"r\")\n",
        "for i in a:\n",
        "  print(a)"
      ],
      "metadata": {
        "id": "pqLIlLz1iKky"
      },
      "execution_count": null,
      "outputs": []
    },
    {
      "cell_type": "code",
      "source": [
        "#close\n",
        "\n",
        "a = open(\"Python 1.txt\",\"r\")\n",
        "a.close()"
      ],
      "metadata": {
        "id": "_IKHZp-MiLj2"
      },
      "execution_count": null,
      "outputs": []
    },
    {
      "cell_type": "code",
      "source": [
        "#delete\n",
        "fileName = \"Python.txt\"\n",
        "os.remove(fileName)"
      ],
      "metadata": {
        "id": "jXRg4eOgil_8"
      },
      "execution_count": null,
      "outputs": []
    },
    {
      "cell_type": "markdown",
      "source": [
        "Math\n",
        "\n",
        "The math module has a set of methods and constants"
      ],
      "metadata": {
        "id": "BIXP8gsofXTR"
      }
    },
    {
      "cell_type": "code",
      "source": [
        "import math"
      ],
      "metadata": {
        "id": "RYNt3TbOfWZk"
      },
      "execution_count": null,
      "outputs": []
    },
    {
      "cell_type": "code",
      "source": [
        "pi = math.pi\n",
        "pi"
      ],
      "metadata": {
        "colab": {
          "base_uri": "https://localhost:8080/"
        },
        "id": "DkC5q_rOfcWN",
        "outputId": "82d081cf-b738-4b1f-f0d0-5e1fcc227546"
      },
      "execution_count": null,
      "outputs": [
        {
          "output_type": "execute_result",
          "data": {
            "text/plain": [
              "3.141592653589793"
            ]
          },
          "metadata": {},
          "execution_count": 30
        }
      ]
    },
    {
      "cell_type": "code",
      "source": [
        "log = math.log(2)\n",
        "log"
      ],
      "metadata": {
        "colab": {
          "base_uri": "https://localhost:8080/"
        },
        "id": "xv-RZLnNfeHO",
        "outputId": "126b6758-27e0-42a2-d1f8-71f0f1dc1509"
      },
      "execution_count": null,
      "outputs": [
        {
          "output_type": "execute_result",
          "data": {
            "text/plain": [
              "0.6931471805599453"
            ]
          },
          "metadata": {},
          "execution_count": 31
        }
      ]
    },
    {
      "cell_type": "code",
      "source": [
        "upperBound = math.ceil(pi)\n",
        "upperBound"
      ],
      "metadata": {
        "colab": {
          "base_uri": "https://localhost:8080/"
        },
        "id": "glw9aBl-fgFE",
        "outputId": "f334627f-0ef9-4b52-cab8-61b4a9137a38"
      },
      "execution_count": null,
      "outputs": [
        {
          "output_type": "execute_result",
          "data": {
            "text/plain": [
              "4"
            ]
          },
          "metadata": {},
          "execution_count": 32
        }
      ]
    },
    {
      "cell_type": "code",
      "source": [
        "lowerBound = math.floor(log)\n",
        "lowerBound"
      ],
      "metadata": {
        "colab": {
          "base_uri": "https://localhost:8080/"
        },
        "id": "ZYpRbobyfgRU",
        "outputId": "972cbb01-f7dc-4faa-b4ba-b9490f2ffbec"
      },
      "execution_count": null,
      "outputs": [
        {
          "output_type": "execute_result",
          "data": {
            "text/plain": [
              "0"
            ]
          },
          "metadata": {},
          "execution_count": 33
        }
      ]
    },
    {
      "cell_type": "markdown",
      "source": [
        "datetime\n",
        "\n",
        "The datetime module supplies classes for manipulating dates and times."
      ],
      "metadata": {
        "id": "z43ZayFufloh"
      }
    },
    {
      "cell_type": "code",
      "source": [
        "import datetime"
      ],
      "metadata": {
        "id": "QJqT6oF8fgXQ"
      },
      "execution_count": null,
      "outputs": []
    },
    {
      "cell_type": "code",
      "source": [
        "todayWithTime = datetime.date.today()\n",
        "todayWithTime"
      ],
      "metadata": {
        "colab": {
          "base_uri": "https://localhost:8080/"
        },
        "id": "ubvDX00xfgZy",
        "outputId": "4fb78ede-4099-4023-dddf-6a0e75cd7a6b"
      },
      "execution_count": null,
      "outputs": [
        {
          "output_type": "execute_result",
          "data": {
            "text/plain": [
              "datetime.date(2022, 4, 10)"
            ]
          },
          "metadata": {},
          "execution_count": 35
        }
      ]
    },
    {
      "cell_type": "code",
      "source": [
        "formatting_date = datetime.datetime.strftime(todayWithTime, \"%m/%d/%Y\")\n",
        "formatting_date"
      ],
      "metadata": {
        "colab": {
          "base_uri": "https://localhost:8080/",
          "height": 35
        },
        "id": "qxhFxvWnfgdW",
        "outputId": "afeed21c-bd89-44c8-efcc-de50cfb5f276"
      },
      "execution_count": null,
      "outputs": [
        {
          "output_type": "execute_result",
          "data": {
            "text/plain": [
              "'04/10/2022'"
            ],
            "application/vnd.google.colaboratory.intrinsic+json": {
              "type": "string"
            }
          },
          "metadata": {},
          "execution_count": 36
        }
      ]
    },
    {
      "cell_type": "markdown",
      "source": [
        "formatting_date = datetime.datetime.strftime(todayWithTime, \"%m/%d/%Y\")\n",
        "formatting_date"
      ],
      "metadata": {
        "id": "O33OA-2mfulQ"
      }
    },
    {
      "cell_type": "code",
      "source": [
        "from random import randint"
      ],
      "metadata": {
        "id": "AWBqiob-fggA"
      },
      "execution_count": null,
      "outputs": []
    },
    {
      "cell_type": "code",
      "source": [
        "for i in range(10):\n",
        "    print(f\"Random num {i} is {randint(1,10)}\")"
      ],
      "metadata": {
        "colab": {
          "base_uri": "https://localhost:8080/"
        },
        "id": "iHIeLQ2pfgij",
        "outputId": "de214d9c-6283-479e-cfc6-fb087acab182"
      },
      "execution_count": null,
      "outputs": [
        {
          "output_type": "stream",
          "name": "stdout",
          "text": [
            "Random num 0 is 7\n",
            "Random num 1 is 9\n",
            "Random num 2 is 7\n",
            "Random num 3 is 2\n",
            "Random num 4 is 1\n",
            "Random num 5 is 9\n",
            "Random num 6 is 9\n",
            "Random num 7 is 8\n",
            "Random num 8 is 7\n",
            "Random num 9 is 1\n"
          ]
        }
      ]
    }
  ]
}