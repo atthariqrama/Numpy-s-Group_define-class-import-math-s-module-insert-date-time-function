{
  "nbformat": 4,
  "nbformat_minor": 0,
  "metadata": {
    "colab": {
      "name": "numpy_porto5.ipynb",
      "provenance": [],
      "collapsed_sections": []
    },
    "kernelspec": {
      "name": "python3",
      "display_name": "Python 3"
    },
    "language_info": {
      "name": "python"
    }
  },
  "cells": [
    {
      "cell_type": "markdown",
      "source": [
        "Math\n",
        "\n",
        "The math module has a set of methods and constants"
      ],
      "metadata": {
        "id": "xj_j81zlV-25"
      }
    },
    {
      "cell_type": "code",
      "source": [
        "import math"
      ],
      "metadata": {
        "id": "FF-0lPUzW2xi"
      },
      "execution_count": null,
      "outputs": []
    },
    {
      "cell_type": "code",
      "execution_count": null,
      "metadata": {
        "colab": {
          "base_uri": "https://localhost:8080/"
        },
        "id": "aC5IDH6zV2WW",
        "outputId": "67dc7693-13d4-4bb5-d1bf-9bc1e344bc7c"
      },
      "outputs": [
        {
          "output_type": "execute_result",
          "data": {
            "text/plain": [
              "3.141592653589793"
            ]
          },
          "metadata": {},
          "execution_count": 3
        }
      ],
      "source": [
        "pi = math.pi\n",
        "pi"
      ]
    },
    {
      "cell_type": "code",
      "source": [
        "log = math.log(2)\n",
        "log"
      ],
      "metadata": {
        "colab": {
          "base_uri": "https://localhost:8080/"
        },
        "id": "RHMQodPEW6nG",
        "outputId": "04faa9d4-0351-44cd-db04-afec29c111bb"
      },
      "execution_count": null,
      "outputs": [
        {
          "output_type": "execute_result",
          "data": {
            "text/plain": [
              "0.6931471805599453"
            ]
          },
          "metadata": {},
          "execution_count": 7
        }
      ]
    },
    {
      "cell_type": "code",
      "source": [
        "upperBound = math.ceil(pi)\n",
        "upperBound"
      ],
      "metadata": {
        "colab": {
          "base_uri": "https://localhost:8080/"
        },
        "id": "1I8fYy_DWNFh",
        "outputId": "3d37b426-54d9-4c62-b29d-5c5bc5ff2224"
      },
      "execution_count": null,
      "outputs": [
        {
          "output_type": "execute_result",
          "data": {
            "text/plain": [
              "4"
            ]
          },
          "metadata": {},
          "execution_count": 6
        }
      ]
    },
    {
      "cell_type": "code",
      "source": [
        "lowerBound = math.floor(log)\n",
        "lowerBound"
      ],
      "metadata": {
        "colab": {
          "base_uri": "https://localhost:8080/"
        },
        "id": "29D_0Im2WZgG",
        "outputId": "3023b5d8-80af-41b2-b7e3-82e4c32a7b87"
      },
      "execution_count": null,
      "outputs": [
        {
          "output_type": "execute_result",
          "data": {
            "text/plain": [
              "0"
            ]
          },
          "metadata": {},
          "execution_count": 8
        }
      ]
    },
    {
      "cell_type": "markdown",
      "source": [
        "datetime\n",
        "\n",
        "The datetime module supplies classes for manipulating dates and times."
      ],
      "metadata": {
        "id": "RjpDEvokXYH6"
      }
    },
    {
      "cell_type": "code",
      "source": [
        "import datetime"
      ],
      "metadata": {
        "id": "NVGzV6pBXkkW"
      },
      "execution_count": null,
      "outputs": []
    },
    {
      "cell_type": "code",
      "source": [
        "todayWithTime = datetime.date.today()\n",
        "todayWithTime"
      ],
      "metadata": {
        "colab": {
          "base_uri": "https://localhost:8080/"
        },
        "id": "rzj-7ipoXE3P",
        "outputId": "541d6580-59e6-4b46-e313-4d3dedb11cc3"
      },
      "execution_count": null,
      "outputs": [
        {
          "output_type": "execute_result",
          "data": {
            "text/plain": [
              "datetime.date(2022, 4, 10)"
            ]
          },
          "metadata": {},
          "execution_count": 14
        }
      ]
    },
    {
      "cell_type": "code",
      "source": [
        "formatting_date = datetime.datetime.strftime(todayWithTime, \"%m/%d/%Y\")\n",
        "formatting_date"
      ],
      "metadata": {
        "colab": {
          "base_uri": "https://localhost:8080/",
          "height": 35
        },
        "id": "Al1Wf7QuXhnn",
        "outputId": "c0fa60e2-9a18-463f-f1ef-cc3ba5a31543"
      },
      "execution_count": null,
      "outputs": [
        {
          "output_type": "execute_result",
          "data": {
            "text/plain": [
              "'04/10/2022'"
            ],
            "application/vnd.google.colaboratory.intrinsic+json": {
              "type": "string"
            }
          },
          "metadata": {},
          "execution_count": 16
        }
      ]
    },
    {
      "cell_type": "markdown",
      "source": [
        "randint\n",
        "\n",
        "The randint() method returns an integer number selected element from the specified range"
      ],
      "metadata": {
        "id": "_KcL3DV7X_cy"
      }
    },
    {
      "cell_type": "code",
      "source": [
        "from random import randint"
      ],
      "metadata": {
        "id": "LUPpnjoOYD-C"
      },
      "execution_count": null,
      "outputs": []
    },
    {
      "cell_type": "code",
      "source": [
        "for i in range(10):\n",
        "    print(f\"Random num {i} is {randint(1,10)}\")"
      ],
      "metadata": {
        "colab": {
          "base_uri": "https://localhost:8080/"
        },
        "id": "eGLfC0MSX9r-",
        "outputId": "5878dbd7-bb1b-4821-c2cc-5b5cab776312"
      },
      "execution_count": null,
      "outputs": [
        {
          "output_type": "stream",
          "name": "stdout",
          "text": [
            "Random num 0 is 5\n",
            "Random num 1 is 5\n",
            "Random num 2 is 10\n",
            "Random num 3 is 8\n",
            "Random num 4 is 10\n",
            "Random num 5 is 9\n",
            "Random num 6 is 6\n",
            "Random num 7 is 4\n",
            "Random num 8 is 1\n",
            "Random num 9 is 5\n"
          ]
        }
      ]
    },
    {
      "cell_type": "code",
      "source": [
        ""
      ],
      "metadata": {
        "id": "GMBMlSEwYHoL"
      },
      "execution_count": null,
      "outputs": []
    }
  ]
}